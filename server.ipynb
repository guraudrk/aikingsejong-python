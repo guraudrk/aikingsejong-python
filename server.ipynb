{
 "cells": [
  {
   "cell_type": "code",
   "execution_count": null,
   "id": "ba75e3ce-a1f2-4c8e-9248-abee8a33161d",
   "metadata": {},
   "outputs": [],
   "source": [
    "import os\n",
    "\n",
    "import tensorflow as tf\n",
    "from flask import Flask, jsonify, request\n",
    "from flask_cors import CORS\n",
    "from tensorflow.keras.models import load_model\n",
    "\n",
    "from chatbot import add_dane_suffix  # 전처리 함수; chatbot.py에서의 함수/변수들을 불러온다.\n",
    "from chatbot import generate_response  # chatbot.py에서 정의한 것\n",
    "from chatbot import (find_similar_answer, organized_data, replace_words,\n",
    "                     tokenizer, vectorizer, word_map)\n",
    "\n",
    "#이 파일을 실행시키면 chatbot.py파일도 실행이 되는 격이다.\n",
    "#그러니 이 파일만 실행시키자. 경로 잘 맞춰서 실행시키기! 꼭!\n",
    "\n",
    "app = Flask(__name__)\n",
    "CORS(app)\n",
    "\n",
    "# 현재 파일의 절대 경로를 가져온다.\n",
    "BASE_DIR = os.path.dirname(os.path.abspath(__file__))\n",
    "# 절대 경로로 모델 파일 경로를 설정한다.\n",
    "model_path = os.path.join(BASE_DIR, 'chatbot_model.keras')\n",
    "print(model_path)\n",
    "# 모델 로드 (서버 시작 시 한 번만 실행)\n",
    "model = load_model(model_path)\n",
    "\n",
    "# 챗봇 로직\n",
    "def generate_response(question):\n",
    "    # 유사한 답변을 찾는다\n",
    "    answer = find_similar_answer(question, organized_data, vectorizer, model, tokenizer)\n",
    "    \n",
    "    # 답변을 변환한다\n",
    "    transformed_answer = replace_words(answer, word_map)\n",
    "    \n",
    "    # 최종 답변을 변환하고 반환한다\n",
    "    final_answer = add_dane_suffix(transformed_answer)\n",
    "    \n",
    "    return final_answer\n",
    "\n",
    "# POST 요청을 처리한다\n",
    "@app.route('/aikingsejong', methods=['POST'])\n",
    "def chat():\n",
    "    user_input = request.json.get('message')\n",
    "    if not user_input:\n",
    "        return jsonify({'error': 'No message provided'}), 400\n",
    "\n",
    "    print(f\"Received user input: {user_input}\")  # 로그 추가\n",
    "    response = generate_response(user_input)\n",
    "    print(f\"Generated response: {response}\")  # 로그 추가\n",
    "\n",
    "    return jsonify({'response': response})\n",
    "\n",
    "if __name__ == '__main__':\n",
    "    app.run(debug=True)"
   ]
  }
 ],
 "metadata": {
  "kernelspec": {
   "display_name": "Python 3 (ipykernel)",
   "language": "python",
   "name": "python3"
  },
  "language_info": {
   "codemirror_mode": {
    "name": "ipython",
    "version": 3
   },
   "file_extension": ".py",
   "mimetype": "text/x-python",
   "name": "python",
   "nbconvert_exporter": "python",
   "pygments_lexer": "ipython3",
   "version": "3.11.7"
  }
 },
 "nbformat": 4,
 "nbformat_minor": 5
}
